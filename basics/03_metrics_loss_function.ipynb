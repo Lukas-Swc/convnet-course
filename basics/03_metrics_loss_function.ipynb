{
  "nbformat": 4,
  "nbformat_minor": 0,
  "metadata": {
    "colab": {
      "provenance": [],
      "authorship_tag": "ABX9TyPzsZlL/UZS0yz+BXoTxu3j",
      "include_colab_link": true
    },
    "kernelspec": {
      "name": "python3",
      "display_name": "Python 3"
    },
    "language_info": {
      "name": "python"
    }
  },
  "cells": [
    {
      "cell_type": "markdown",
      "metadata": {
        "id": "view-in-github",
        "colab_type": "text"
      },
      "source": [
        "<a href=\"https://colab.research.google.com/github/Lukas-Swc/convnet-course/blob/main/basics/03_metrics_loss_function.ipynb\" target=\"_parent\"><img src=\"https://colab.research.google.com/assets/colab-badge.svg\" alt=\"Open In Colab\"/></a>"
      ]
    },
    {
      "cell_type": "markdown",
      "source": [
        "## Accuracy - Dokładność klasyfikacji\n",
        "\n",
        "##   $Accuracy = \\frac{correct\\ predictions}{total\\ predictions} * 100$"
      ],
      "metadata": {
        "id": "e7TkL_6bknKw"
      }
    },
    {
      "cell_type": "code",
      "source": [
        "import numpy as np\n",
        "\n",
        "y_true = np.array([1, 0, 1, 1, 0, 1])\n",
        "y_pred = np.array([0, 0, 1, 1, 0, 1])\n",
        "\n",
        "def accuracy(y_true, y_pred):\n",
        "  correct = 0\n",
        "  for i in range(len(y_true)):\n",
        "    if y_true[i] == y_pred[i]:\n",
        "      correct += 1\n",
        "  return correct / len(y_true) * 100"
      ],
      "metadata": {
        "id": "EM-OYtRDkssC"
      },
      "execution_count": 45,
      "outputs": []
    },
    {
      "cell_type": "code",
      "source": [
        "accuracy(y_true, y_pred)"
      ],
      "metadata": {
        "colab": {
          "base_uri": "https://localhost:8080/"
        },
        "id": "Cn5pnBoIluHO",
        "outputId": "4f9d5446-da4c-42a5-f7bd-ad6266bd231d"
      },
      "execution_count": 46,
      "outputs": [
        {
          "output_type": "execute_result",
          "data": {
            "text/plain": [
              "83.33333333333334"
            ]
          },
          "metadata": {},
          "execution_count": 46
        }
      ]
    },
    {
      "cell_type": "markdown",
      "source": [
        "## Entropia rozkładu prawdopodobieństwa\n",
        "\n",
        "##  $Entropy = - \\sum_{i}p_{i} * log(p_{i})$\n",
        "\n",
        "Gdzie $p_{i}$ to prawdopodobieństwo zajścia $i$-tego zdarzenia. Entropia charakteryzuje mozliwośc oddawania informacji przez żródło.  Inaczej jest to miara nieokresloności/niepewności. Średnie zdziwienie (wartość oczekiwana zdziwienia)"
      ],
      "metadata": {
        "id": "vtVKXM0wmBE2"
      }
    },
    {
      "cell_type": "code",
      "source": [
        "def entropy(labels, base=None):\n",
        "  from math import log, e\n",
        "  n_labels = len(labels)\n",
        "\n",
        "  if n_labels <= 1:\n",
        "    return 0\n",
        "\n",
        "  value, counts = np.unique(labels, return_counts=True)\n",
        "  probs = counts / n_labels\n",
        "  n_classes = np.count_nonzero(probs)\n",
        "\n",
        "  if n_classes <= 1:\n",
        "    return 0\n",
        "\n",
        "  ent = 0.\n",
        "\n",
        "  base = e if base is None else base\n",
        "  for i in probs:\n",
        "    ent -= i * log(i, base)\n",
        "  return ent\n",
        "\n",
        "\n",
        "labels = [1,3,5,2,3,5,3,2,1,3,4,5]\n",
        "entropy(labels)"
      ],
      "metadata": {
        "colab": {
          "base_uri": "https://localhost:8080/"
        },
        "id": "HhV7NRlDlyKB",
        "outputId": "ce1d8c2e-43a5-42b3-a56d-27b3321ef3f4"
      },
      "execution_count": 48,
      "outputs": [
        {
          "output_type": "execute_result",
          "data": {
            "text/plain": [
              "np.float64(1.5171063970610277)"
            ]
          },
          "metadata": {},
          "execution_count": 48
        }
      ]
    },
    {
      "cell_type": "markdown",
      "source": [
        "\n",
        "\n",
        "---\n",
        "\n",
        "\n",
        "## Loss Functions - Funkcje Straty"
      ],
      "metadata": {
        "id": "gYgORm5vovmh"
      }
    },
    {
      "cell_type": "markdown",
      "source": [
        "## Binary Crossentropy - Binarna Entropia Krzyzowa\n",
        "\n",
        "##  $Binary\\ CrossEntropy = -y_{true}*log(y_{pred}) - (1-y_{true}) * log(1-y_{pred})$"
      ],
      "metadata": {
        "id": "8h6vQrklowTs"
      }
    },
    {
      "cell_type": "code",
      "source": [
        "def binary_crossentropy(y_true, y_pred):\n",
        "  y_pred = np.clip(y_pred, 0.0000001, 1-0.0000001)\n",
        "  return -y_true * np.log(y_pred) - (1 - y_true) * np.log(1 - y_pred)"
      ],
      "metadata": {
        "id": "bBhihI3ApAtX"
      },
      "execution_count": 51,
      "outputs": []
    },
    {
      "cell_type": "code",
      "source": [
        "y_true = np.array([1, 0, 1, 1, 0, 1, 0])\n",
        "y_pred = np.array([0, 0, 1, 1, 0, 1, 1])\n",
        "\n",
        "binary_crossentropy(y_true, y_pred)"
      ],
      "metadata": {
        "colab": {
          "base_uri": "https://localhost:8080/"
        },
        "id": "EsVVfvtknfl0",
        "outputId": "bd3c4e29-2c63-4e74-ab25-a5e84a9edda8"
      },
      "execution_count": 52,
      "outputs": [
        {
          "output_type": "execute_result",
          "data": {
            "text/plain": [
              "array([1.61180957e+01, 1.00000005e-07, 1.00000005e-07, 1.00000005e-07,\n",
              "       1.00000005e-07, 1.00000005e-07, 1.61180957e+01])"
            ]
          },
          "metadata": {},
          "execution_count": 52
        }
      ]
    },
    {
      "cell_type": "markdown",
      "source": [
        "## Categorical Crossentropy - Kategoryczna Entropia Krzyzowa\n",
        "\n",
        "##  $Categorical\\ CrossEntropy= - \\sum_{i}y_{true} * log(y_{pred}) $"
      ],
      "metadata": {
        "id": "0-h2Wr-AqubP"
      }
    },
    {
      "cell_type": "code",
      "source": [
        "def categorical_crossentropy(y_true, y_pred):\n",
        "  y_pred = np.clip(y_pred, 0.0000001, 1 - 0.0000001)\n",
        "  return -np.sum(y_true * np.log(y_pred))"
      ],
      "metadata": {
        "id": "ydtFg004rCBU"
      },
      "execution_count": 58,
      "outputs": []
    },
    {
      "cell_type": "code",
      "source": [
        "y_true = np.array([1, 0, 0, 0, 0])\n",
        "y_pred = np.array([0.4, 0.3, 0.05, 0.05, 0.2])\n",
        "\n",
        "categorical_crossentropy(y_true, y_pred)"
      ],
      "metadata": {
        "colab": {
          "base_uri": "https://localhost:8080/"
        },
        "id": "m98tU3bjqvd7",
        "outputId": "501ce4c1-da6e-4c5f-ecbb-c17a3e3f9e16"
      },
      "execution_count": 59,
      "outputs": [
        {
          "output_type": "execute_result",
          "data": {
            "text/plain": [
              "np.float64(0.916290731874155)"
            ]
          },
          "metadata": {},
          "execution_count": 59
        }
      ]
    },
    {
      "cell_type": "code",
      "source": [
        "y_true = np.array([1, 0, 0, 0, 0])\n",
        "y_pred = np.array([0.98, 0.01, 0.0, 0.0, 0.01])\n",
        "\n",
        "categorical_crossentropy(y_true, y_pred)"
      ],
      "metadata": {
        "colab": {
          "base_uri": "https://localhost:8080/"
        },
        "id": "5QFXUM5Nr2aX",
        "outputId": "8e66dbeb-8765-4eca-9196-285decd9b8cf"
      },
      "execution_count": 60,
      "outputs": [
        {
          "output_type": "execute_result",
          "data": {
            "text/plain": [
              "np.float64(0.020202707317519466)"
            ]
          },
          "metadata": {},
          "execution_count": 60
        }
      ]
    },
    {
      "cell_type": "code",
      "source": [
        "y_true = np.array([[1, 0, 0, 0, 0],\n",
        "                  [0, 0, 0, 1, 0],\n",
        "                  [1, 0, 0, 0, 0]])\n",
        "y_pred = np.array([[0.4, 0.3, 0.05, 0.05, 0.2],\n",
        "                  [0.05, 0.2, 0.0, 0.7, 0.05],\n",
        "                  [0.98, 0.01, 0.0, 0.0, 0.01]])\n",
        "\n",
        "categorical_crossentropy(y_true, y_pred)"
      ],
      "metadata": {
        "colab": {
          "base_uri": "https://localhost:8080/"
        },
        "id": "p8m6ypkSsXrR",
        "outputId": "6d2ac3e0-7e9a-4029-eaa8-7b6319cb1dff"
      },
      "execution_count": 61,
      "outputs": [
        {
          "output_type": "execute_result",
          "data": {
            "text/plain": [
              "np.float64(1.293168383130407)"
            ]
          },
          "metadata": {},
          "execution_count": 61
        }
      ]
    }
  ]
}